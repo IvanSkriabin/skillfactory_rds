{
 "cells": [
  {
   "cell_type": "markdown",
   "metadata": {},
   "source": [
    "# Проект \"УГАДАЙ ЧИСЛО!\""
   ]
  },
  {
   "cell_type": "markdown",
   "metadata": {},
   "source": [
    "## Компьютер загадывает целое число от 1 до 100, и нам его нужно угадать. Под «угадать», конечно, подразумевается «написать программу, которая угадывает число»."
   ]
  },
  {
   "cell_type": "markdown",
   "metadata": {},
   "source": [
    "Задание. Улучшить алгоритм автора проекта, то есть написать код, который может угадать число в диапазоне от 1 до 100, задуманного компьютером, за меньшее число попыток, чем программа, написанная автором проекта, приведённая ниже."
   ]
  },
  {
   "cell_type": "code",
   "execution_count": 5,
   "metadata": {},
   "outputs": [
    {
     "name": "stdout",
     "output_type": "stream",
     "text": [
      "Ваш алгоритм угадывает число в среднем за 5 попыток\n",
      "5\n"
     ]
    }
   ],
   "source": [
    "import numpy as np\n",
    "\n",
    "def score_game(game_core):\n",
    "    '''Запускаем игру 1000 раз, чтобы узнать, как быстро игра угадывает число'''\n",
    "    count_ls = []\n",
    "    np.random.seed(1)  # фиксируем RANDOM SEED, чтобы ваш эксперимент был воспроизводим!\n",
    "    random_array = np.random.randint(1,101, size=(1000))\n",
    "    for number in random_array:\n",
    "        count_ls.append(game_core(number))\n",
    "    score = int(np.mean(count_ls))\n",
    "    print(f\"Ваш алгоритм угадывает число в среднем за {score} попыток\")\n",
    "    return(score)\n",
    "\n",
    "def game_core_v3(number):\n",
    "    '''Сначала устанавливаем любое random число, а потом уменьшаем или увеличиваем его в зависимости от того, больше оно или меньше нужного.\n",
    "       Функция принимает загаданное число и возвращает число попыток'''\n",
    "    left = 1\n",
    "    right = 100\n",
    "    count = 1 # счетчик попыток.\n",
    "    predict = 50 # используем бинарный поиск и начинаем угадывать с 50.\n",
    "    \n",
    "    while number != predict:\n",
    "        count+=1 # плюсуем попытку\n",
    "        if number > predict: \n",
    "            left = predict+1 # если искомое значение больше значения среднего элемента, то нижняя граница сдвигается за средний элемент на один элемент справа.\n",
    "        elif number < predict: \n",
    "            right = predict-1 # если искомое значение меньше значения среднего элемента, то верхняя граница сдвигается на элемент перед средним.\n",
    "        predict = (left+right)//2 # ищем средний элемент последовательности.\n",
    "    return(count) # выход из цикла, если угадали.\n",
    "\n",
    "print(score_game(game_core_v3))"
   ]
  },
  {
   "cell_type": "code",
   "execution_count": null,
   "metadata": {},
   "outputs": [],
   "source": []
  }
 ],
 "metadata": {
  "kernelspec": {
   "display_name": "Python 3",
   "language": "python",
   "name": "python3"
  },
  "language_info": {
   "codemirror_mode": {
    "name": "ipython",
    "version": 3
   },
   "file_extension": ".py",
   "mimetype": "text/x-python",
   "name": "python",
   "nbconvert_exporter": "python",
   "pygments_lexer": "ipython3",
   "version": "3.8.5"
  }
 },
 "nbformat": 4,
 "nbformat_minor": 4
}
